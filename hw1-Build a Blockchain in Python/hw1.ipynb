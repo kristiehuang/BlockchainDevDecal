{
 "cells": [
  {
   "cell_type": "markdown",
   "metadata": {},
   "source": [
    "# Build a Blockchain! - Blockchain Design Exercises"
   ]
  },
  {
   "cell_type": "markdown",
   "metadata": {},
   "source": [
    "## HW1 - Build a Blockchain in Python\n",
    "\n",
    "#### Getting Started\n",
    "\n",
    "CS 198-077 Spring 2020 \n",
    "HW1-Build a Blockchain in Python\n",
    "\n",
    "Created by Omkar Shanbhag, Updated by Simon Guo\n",
    "\n",
    "This notebook is meant to be a short introduction to Blockchain implementations, aimed at helping us take the topics we learn about in fundamentals, and seeing how they translate to code. \n",
    "\n",
    "In this notebook we will implement various different aspects of Blockchain technology that we understand including: \n",
    "\n",
    "- The Blockchain Data Structure using OOP \n",
    "- A proof of work simulation \n",
    "- Understanding of the concept of difficulty of finding the next block hash \n",
    "- A simulation of multiple miners with varying computational powers \n",
    "- A bit of data analytics to see if what we've implemented makes sense "
   ]
  },
  {
   "cell_type": "code",
   "execution_count": 10,
   "metadata": {},
   "outputs": [
    {
     "name": "stdout",
     "output_type": "stream",
     "text": [
      "/Library/Frameworks/Python.framework/Versions/3.8/bin/python3\n"
     ]
    }
   ],
   "source": [
    "#Import statements\n",
    "import sys\n",
    "print(sys.executable)\n",
    "\n",
    "import hashlib as hasher \n",
    "import random as rand\n",
    "import time\n",
    "import datetime as date\n",
    "import ipyparallel as ipp\n",
    "import numpy as np\n",
    "import matplotlib.pyplot as plt"
   ]
  },
  {
   "cell_type": "markdown",
   "metadata": {},
   "source": [
    "# Blockchain Data Structure Design"
   ]
  },
  {
   "cell_type": "markdown",
   "metadata": {},
   "source": [
    "In this section we will define the class \"Block\" and create an init function that creates a new block given some parameters, as well as a function hash_block, that computes the hash of this block based on its class variables. \n",
    "\n",
    "The init function is implemented for you below and creates a block with the following specifications \n",
    "- Index --> the index of the block on the chain (zero indexed)\n",
    "- Timestamp --> time that the block was added on to the chain\n",
    "- data --> The data the block contains (Usually points to root of merkel tree, but we can fill it with whatever for this)\n",
    "- previous_hash --> The hash value of the previous block \n",
    "- hash --> hash of this block computed using the hash_block function\n",
    "- nonce --> the variable value that we change to alter the hash output (Default value = 0, irrelevant in this section)\n",
    "\n",
    "****QUESTION #1: Implement hash_block()****\n",
    "\n",
    "We need to implement the hash_block() which computes the hash value of this block based on how we initialize it. This function takes in no parameters. \n",
    "\n",
    "Desired Functionality:\n",
    "- Concatenate string representations of all the class variables \n",
    "- Computes the SHA256 hash of this concatenation \n",
    "\n",
    "-- HINTS --\n",
    "\n",
    "- use the first import statement!!! \n",
    "- initialize a new hasher\n",
    "- Look into the following words \n",
    "    - utf-8 encoding \n",
    "    - .update() function \n",
    "    - .hexdigest() function\n",
    "    - In order for the test function below to work properly, create the string concatenation in the following order with no spaces or any other characters in between \n",
    "       - index\n",
    "       - timestamp\n",
    "       - data\n",
    "       - previous block hash\n",
    "       - nonce\n",
    "     - If you want to do it another order that incorporates everything thats totally fine, but test function wont work!"
   ]
  },
  {
   "cell_type": "markdown",
   "metadata": {},
   "source": []
  },
  {
   "cell_type": "code",
   "execution_count": 15,
   "metadata": {},
   "outputs": [],
   "source": [
    "class Block:\n",
    "    def __init__(self, index, timestamp, data, previous_hash, nonce=0):\n",
    "        self.index = index\n",
    "        self.timestamp = timestamp\n",
    "        self.data = data\n",
    "        self.nonce = nonce #set to zero as default not applicable in first section \n",
    "        self.previous_hash = previous_hash\n",
    "        self.hash = self.hash_block()\n",
    "\n",
    "    def hash_block(self):\n",
    "        h = hasher.sha256()\n",
    "        sconcat = str(self.index) + str(self.timestamp) + self.data + self.previous_hash + str(self.nonce)\n",
    "        h.update(sconcat.encode('utf-8'))\n",
    "        return h.hexdigest()\n",
    "        #Your code for QUESTION 1 Here \n"
   ]
  },
  {
   "cell_type": "markdown",
   "metadata": {},
   "source": [
    "**TEST YOUR QUESTION 1 CODE HERE**\n",
    "\n",
    "Run the block of code below"
   ]
  },
  {
   "cell_type": "code",
   "execution_count": 16,
   "metadata": {},
   "outputs": [
    {
     "name": "stdout",
     "output_type": "stream",
     "text": [
      "PASSED!!! Move on to next Question\n"
     ]
    }
   ],
   "source": [
    "def test_question_1(index, time, data, previous_hash):\n",
    "    new_block = Block(index, time, data, previous_hash)\n",
    "    check_string = '2def27922fc1c67254a9cdb0c660b91abf9b135ad38fc13c7c77007448b824a0'\n",
    "    print_statement = \"PASSED!!! Move on to next Question\" if str(new_block.hash) == check_string else \"FAILED!!! Try Again\"\n",
    "    print(print_statement)\n",
    "    \n",
    "time = '2019-10-17 00:37:35.256774'\n",
    "data = 'Machine Learning Blockchain AI'\n",
    "previous_hash = '6ffd1464f68ef4aeb385d399244efa19293ba5c842c464a82c02f8256ef71428'\n",
    "index = 0\n",
    "    \n",
    "test_question_1(index, time, data, previous_hash)"
   ]
  },
  {
   "cell_type": "markdown",
   "metadata": {},
   "source": [
    "**Functions for Building the Chain**\n",
    "\n",
    "Now that we have our class Block completed, lets figure out how to make a chain out of them. For a chain, we need to first have a function that creates a genesis block, which serves as the first block of our chain, and then create the function next_block() which builds a new block on top of a given block.\n",
    "\n",
    "create_genesis_block() has been implemented for you. It creates a block with the following specifications. \n",
    "- index = 0\n",
    "- timestamp = Now (whenever the function is being called) \n",
    "- data = \"Genesis Block\"\n",
    "- previous_hash = \"0\"\n",
    "\n",
    "**QUESTION #2: Implement next_block()**\n",
    "\n",
    "We need to implement the function next_block() which takes in 1 parameter:\n",
    "- Last_block = an instance of class Block that is the block that we're building our next block on top of \n",
    "- nonce = Dont do anything with this right now - just pass it in to the Block that you create using the default \n",
    "\n",
    "We want to implement the function so that it returns a new instance of the class Block with the following specifications\n",
    "- index = index of last_block + 1\n",
    "- timestamp = Now (whenever the function is being called)\n",
    "- data = \"Hey! I'm block {index}\"  (for example block w/ index 5 would have data: \"Hey! I'm block 5\")\n",
    "- previous_hash = hash of last_block"
   ]
  },
  {
   "cell_type": "code",
   "execution_count": 17,
   "metadata": {},
   "outputs": [],
   "source": [
    "#Creates the first block with current time and generic data\n",
    "def create_genesis_block():\n",
    "    # Manually construct a block with\n",
    "    # index zero and arbitrary previous hash\n",
    "    return Block(0, date.datetime.now(), \"Genesis Block\", \"0\")\n",
    "\n",
    "#Function that creates the next block, given the last block on the chain you want to mine on\n",
    "def next_block(last_block, nonce=0):\n",
    "    #Your code for QUESTION 2 here\n",
    "    currentIndex = last_block.index + 1\n",
    "    data = \"Hey! I'm block \" + str(currentIndex)\n",
    "    return Block(currentIndex, date.datetime.now(), data, last_block.hash, nonce)\n",
    "    "
   ]
  },
  {
   "cell_type": "markdown",
   "metadata": {},
   "source": [
    "**TEST YOUR QUESTION 2 CODE HERE**\n",
    "\n",
    "Run the block of code below"
   ]
  },
  {
   "cell_type": "code",
   "execution_count": 18,
   "metadata": {},
   "outputs": [
    {
     "name": "stdout",
     "output_type": "stream",
     "text": [
      "PASSED!!! Move on to next part\n"
     ]
    }
   ],
   "source": [
    "def test_question_2(genesis_block):\n",
    "    block_1 = next_block(genesis_block)\n",
    "    if block_1.index == 1 and block_1.data == \"Hey! I'm block 1\" and block_1.previous_hash == genesis_block.hash and str(type(block_1.timestamp)) == \"<class 'datetime.datetime'>\":\n",
    "        print(\"PASSED!!! Move on to next part\" )\n",
    "    else:\n",
    "        print(\"FAILED!!! Try again :(\")\n",
    "    \n",
    "\n",
    "genesis_block = create_genesis_block()\n",
    "test_question_2(genesis_block)"
   ]
  },
  {
   "cell_type": "markdown",
   "metadata": {},
   "source": [
    "**Spinning up a Chain**\n",
    "\n",
    "Now that we've created the data structure as well as the functions needed to create the chain, lets see how spinning up an actual instance of this would work. \n",
    "\n",
    "Below we initialize three different variables \n",
    "- blockchain - this is a python list which we initialize with one block inside (the genesis block) \n",
    "- previous_block - this points to our genesis block (since it references the first element in blockchain)\n",
    "- num_blocks - this specifies the number of additional blocks we want to add to our chain \n",
    "\n",
    "**QUESTION 3 complete_chain()**\n",
    "\n",
    "We want to complete the implementation of the function complete_chain(). This function takes in three inputs, which correspond to the initializations that we made. It returns nothing, however by the time we are done running it, the list 'blockchain' that we initialized earlier has been turned into an array of length num_blocks + 1 in which each element is an instance of class Block and each element's self.previous_hash == the previous element's self.hash. Therefore we have created our own mini blockchain!! \n",
    "\n",
    "The for loop and the print statements of complete_chain have been implemented for you, you need to add the statements that ***create a new block on top of previous_block, add it to the block chain, and edit previous block so that the for loop can continue correctly*** \n",
    "\n",
    "****HINT **** --> Literally just do all the things listed in the section immediately above in order \n",
    "\n",
    "If it works out, you should get the same number of print statements as num_blocks"
   ]
  },
  {
   "cell_type": "code",
   "execution_count": 19,
   "metadata": {},
   "outputs": [
    {
     "name": "stdout",
     "output_type": "stream",
     "text": [
      "Block #1 has been added to the blockchain!\n",
      "Hash: 071c283215ffdba9bd9bde6bb37dbec0da59cddaae382ebac4a6b5d0a6c3f1d2\n",
      "\n",
      "Block #2 has been added to the blockchain!\n",
      "Hash: 21e4cbeae1ea4f4e64e12125bc35eaaf767581010346f0e66324731c3cfdaca5\n",
      "\n",
      "Block #3 has been added to the blockchain!\n",
      "Hash: 2d19c8b9feb9905caf1673bdc1441ac02ff7268815d2d0e7b172056b9f8bd5f8\n",
      "\n",
      "Block #4 has been added to the blockchain!\n",
      "Hash: 526e34688e6d52071e690992f3a85506e2f7cfe502385cc8aab1b49e6f6765b3\n",
      "\n",
      "Block #5 has been added to the blockchain!\n",
      "Hash: 3def92f86c81b3f728b7ff5109b2a116fb3465da88061c6e0395a2e0f08b52f7\n",
      "\n",
      "Block #6 has been added to the blockchain!\n",
      "Hash: 43f941a24889fe1044f68eec194bb19f835f87a2843ec940dc13e21f16b610c9\n",
      "\n",
      "Block #7 has been added to the blockchain!\n",
      "Hash: 46d841089b05a3e7e13a5f18a25ec25879e5db814577df4ba91ad2a0e5305630\n",
      "\n",
      "Block #8 has been added to the blockchain!\n",
      "Hash: 0975f8d334a6e088d17c1456a0560771303cd9d6b1d1347245ba06086bad7a9d\n",
      "\n",
      "Block #9 has been added to the blockchain!\n",
      "Hash: 0091747dda635336ecd9bce844a7150f037a2b6b78bdda40b406404d9a7444f9\n",
      "\n",
      "Block #10 has been added to the blockchain!\n",
      "Hash: 2a71e78c79a9efb90745f7d190f73a9b651a2886cd0230751eb7a8b5e703105a\n",
      "\n",
      "Block #11 has been added to the blockchain!\n",
      "Hash: 6aae25fda5469ed430a6378431888806dcaf98fe1efc31e8bbffd00afebd90c7\n",
      "\n",
      "Block #12 has been added to the blockchain!\n",
      "Hash: b56ca7dc8500a23c2af67bb246322431fc6e93d82aac13b86e5cc9e681f1b027\n",
      "\n",
      "Block #13 has been added to the blockchain!\n",
      "Hash: 73cfe4ee85b9409754a195757b1842eaf8b5c29d83ca9761ae2b3b0a2c0d715b\n",
      "\n",
      "Block #14 has been added to the blockchain!\n",
      "Hash: 3f68a717165773a57ee7a245395b46804acafeb2324e51521f4978984a1499df\n",
      "\n",
      "Block #15 has been added to the blockchain!\n",
      "Hash: 385c042fedb6362061aa44a9b6eec1ed976b2fd31a9130a85a89945c2c7ab256\n",
      "\n",
      "Block #16 has been added to the blockchain!\n",
      "Hash: 3d2d3676e0885f32cacf0465a830ffedd960ae47bc4040e880c79aac4d326f41\n",
      "\n",
      "Block #17 has been added to the blockchain!\n",
      "Hash: 7b22ca7a2db4c526c39be95664fff6ad0a0a9c59e4ed4acb7a597ef664c04379\n",
      "\n",
      "Block #18 has been added to the blockchain!\n",
      "Hash: c1c8a9afe66a2aae3dcf595347f6ba986010da3004fcf2738e6711846a5b6d53\n",
      "\n",
      "Block #19 has been added to the blockchain!\n",
      "Hash: 4672cf098c847efde301bf5423c64f14e7ec136cf8d0561e4abe37e6ac21fd28\n",
      "\n",
      "Block #20 has been added to the blockchain!\n",
      "Hash: 5c0bfcc6e7e7bb0b5a526d42fc1f8485cdfc8c3b730b3625681babe84a0e37f3\n",
      "\n"
     ]
    }
   ],
   "source": [
    "# Create the blockchain and add the genesis block\n",
    "blockchain = [create_genesis_block()]\n",
    "\n",
    "#Create our initial reference to previous block which points to the genesis block\n",
    "previous_block = blockchain[0]\n",
    "\n",
    "# How many blocks should we add to the chain after the genesis block\n",
    "num_blocks = 20\n",
    "\n",
    "def complete_chain(num_blocks, blockchain, previous_block):\n",
    "    # Add blocks to the chain\n",
    "    for i in range(0, num_blocks):\n",
    "        #Your code for QUESTION 3 Here \n",
    "        block_to_add = next_block(previous_block)\n",
    "        previous_block = block_to_add\n",
    "        blockchain.append(block_to_add)\n",
    "\n",
    "        \n",
    "        #Your code for QUESTION 3 ends Here\n",
    "        # Tell everyone about it!\n",
    "        print(\"Block #{} has been added to the blockchain!\".format(block_to_add.index))\n",
    "        print(\"Hash: {}\\n\".format(block_to_add.hash))\n",
    "\n",
    "complete_chain(num_blocks, blockchain, previous_block)"
   ]
  },
  {
   "cell_type": "markdown",
   "metadata": {},
   "source": [
    "**TEST YOUR QUESTION 3 CODE HERE**\n",
    "\n",
    "Run the block of code below"
   ]
  },
  {
   "cell_type": "code",
   "execution_count": 20,
   "metadata": {},
   "outputs": [
    {
     "name": "stdout",
     "output_type": "stream",
     "text": [
      "PASSED!!! Move on to the next Part\n"
     ]
    }
   ],
   "source": [
    "def test_question_3(blockchain, num_blocks):\n",
    "    correct = True\n",
    "    if len(blockchain) != num_blocks + 1:\n",
    "        correct = False\n",
    "    for i in range(len(blockchain)-1):\n",
    "        if blockchain[i + 1].previous_hash != blockchain[i].hash:\n",
    "            correct = False\n",
    "            break\n",
    "    print_statement = \"PASSED!!! Move on to the next Part\" if correct else \"FAILED!!! Try Again :(\"\n",
    "    print(print_statement)\n",
    "\n",
    "test_question_3(blockchain, num_blocks)"
   ]
  },
  {
   "cell_type": "markdown",
   "metadata": {},
   "source": [
    "# Proof of Work Simulation"
   ]
  },
  {
   "cell_type": "markdown",
   "metadata": {},
   "source": [
    "In this section we will be doing a simulation of the proof-of-work consensus mechanism that the Bitcoin Blockchain (among others) uses. Let us define some of the concepts that we will be dealing with in this section. \n",
    "\n",
    "**The Nonce** --> Randomly generated value that we add to our concatenation of our block to add variance to our hashes\n",
    "\n",
    "**Difficulty** --> Specified by the network (in theory, here it is specified by us). Defines the number of hashes that are valid out of all possible values. Higher difficulty indicates a lower number of valid hashes. \n",
    "\n",
    "**QUESTION 4: generate_nonce(), generate_difficulty_bound(), find_next_block()**\n",
    "\n",
    "**Part 1 - Description** \n",
    "\n",
    "The functions **generate_nonce()** and **generate_difficulty_bound()** have been implemented below for you. The first part of this question involves reading through, them understanding them completely, and writing a quick 1 - 2 line summary of what they are supposed to do and how they are implemented (write it in the space given, 2 cells below).\n",
    "\n",
    "**Part 2 - Implementation**\n",
    "\n",
    "The second part of this question is to complete the implementation of find_next_block(). This function's purpose is to try different blocks with the same data, index etc. but different nonces that satisfy the difficulty metric specified. The difficulty bound has already been generated for you and the first block has been created. You have to complete the implementation so that: \n",
    "- You find a nonce such that the hash of the block is less than the difficulty bound. \n",
    "- All data from new block has to be the same (including the timestamp, for simplicity purposes) and the only thing changing is the nonce \n",
    "- For our learning purposes, increment the hashes_tried parameter appropriately everytime you try a hash so that we can see the number of hashes tried and how this correlates to our difficulty value. \n",
    "\n",
    "**HINTS**\n",
    "- How do you turn a hash string into its hex prepresentation that you can compare???\n",
    "- if your implementation is working, you should notice something interesting about all the hashes of the blocks that you are getting when you run the code cell labeled \"Create Proof of work Blockchain\"**\n",
    "\n",
    "\n",
    "\n",
    "**you can test question 4 in the a few cells below this one, after running all the cells in between**"
   ]
  },
  {
   "cell_type": "code",
   "execution_count": 25,
   "metadata": {},
   "outputs": [],
   "source": [
    "import time\n",
    "\n",
    "# generate random integer string with LENGTH digits\n",
    "def generate_nonce(length=20):\n",
    "    return ''.join([str(rand.randint(0, 9)) for i in range(length)])\n",
    "\n",
    "# generate difficulty bound with 2^(64-DIFFICULTY) options\n",
    "def generate_difficulty_bound(difficulty=1):\n",
    "    diff_str = \"\"\n",
    "    for i in range(difficulty):\n",
    "        diff_str += '0'\n",
    "    for i in range(64 - difficulty):\n",
    "        diff_str += 'F'\n",
    "    diff_str = \"0x\" + diff_str  # \"0x\" needs to be added at the front to specify that it is a hex representation\n",
    "    return(int(diff_str, 16))  # Specifies that we want to create an integer of base 16 (as opposed to the default base 10)\n",
    "\n",
    "#Given a previous block and a difficulty metric, finds a nonce that results in a lower hash value\n",
    "def find_next_block(last_block, difficulty, nonce_length):\n",
    "    difficulty_bound = generate_difficulty_bound(difficulty)\n",
    "    start = time.process_time() \n",
    "    new_block = next_block(last_block)\n",
    "    hashes_tried = 1 \n",
    "    #Your code for QUESTION 4 Starts here \n",
    "    while True:\n",
    "        hashes_tried+=1\n",
    "        new_block.nonce = generate_nonce(nonce_length)\n",
    "        h = new_block.hash_block()\n",
    "        if int(h, 16) < difficulty_bound:\n",
    "            new_block.hash = h\n",
    "            break\n",
    "\n",
    "    #Your code for QUESTION 4 Ends here \n",
    "    time_taken = time.process_time() - start\n",
    "    return(time_taken, hashes_tried, new_block)"
   ]
  },
  {
   "cell_type": "markdown",
   "metadata": {},
   "source": [
    "**QUESTION 4 Description Section**\n",
    "\n",
    "Describe the following functions: \n",
    "\n",
    "- generate_nonce():         ######Your Description Here######\n",
    "\n",
    "- generate_difficulty_bound():        ######Your Description Here######"
   ]
  },
  {
   "cell_type": "markdown",
   "metadata": {},
   "source": [
    "The cell below creates our proof of work blockchain in a similar way that we do in the earlier section. \n",
    "\n",
    "Some initializations:\n",
    "- blockchain_pow: Our new python list that signifies our proof of work blockchain, with the genesis block inside\n",
    "- previous_block: The first block to use as previous block to build upon\n",
    "- num_blocks: number of additional blocks to add to teh chain\n",
    "- difficulty: difficulty of the network \n",
    "- nonce_length: length of the randomly generated nonce"
   ]
  },
  {
   "cell_type": "markdown",
   "metadata": {},
   "source": [
    "### Create Proof of Work Blockchain "
   ]
  },
  {
   "cell_type": "code",
   "execution_count": 33,
   "metadata": {},
   "outputs": [
    {
     "name": "stdout",
     "output_type": "stream",
     "text": [
      "Block #1 has been added to the blockchain!\n",
      "2752 Hashes Tried!\n",
      "Time taken to find block: 0.11245299999999503\n",
      "Hash: 00063911a3d2a3c21d38bc52dc1aff775417b761447040f70f48404128f20c4d\n",
      "\n",
      "Block #2 has been added to the blockchain!\n",
      "268 Hashes Tried!\n",
      "Time taken to find block: 0.011335000000002537\n",
      "Hash: 000a9f0a20800f0268cdec0fb2779ecbcfed83bf7bb48b4aabf232a08549769c\n",
      "\n",
      "Block #3 has been added to the blockchain!\n",
      "2907 Hashes Tried!\n",
      "Time taken to find block: 0.07838500000000437\n",
      "Hash: 00000c8a6a6021b9b14d92037f4336ceb57cd1f7e22f2191a8b98ce2dc7520f9\n",
      "\n",
      "Block #4 has been added to the blockchain!\n",
      "5296 Hashes Tried!\n",
      "Time taken to find block: 0.1468150000000037\n",
      "Hash: 00031eb35ec96cb0d52afec6ba543a1ad6f2117617a41d58a3681a9c1d1b0dff\n",
      "\n",
      "Block #5 has been added to the blockchain!\n",
      "671 Hashes Tried!\n",
      "Time taken to find block: 0.01723899999999645\n",
      "Hash: 00050d89211a8ea2c0b15c011e11f9ff8e2e81e3ec605905d6c38f69c7a6ea6e\n",
      "\n",
      "Block #6 has been added to the blockchain!\n",
      "4357 Hashes Tried!\n",
      "Time taken to find block: 0.12342899999999446\n",
      "Hash: 000785ba542acc4e109ef374ea3f59c285aa6c02b940a08f4a5fb41ac38ef989\n",
      "\n",
      "Block #7 has been added to the blockchain!\n",
      "846 Hashes Tried!\n",
      "Time taken to find block: 0.022400999999995008\n",
      "Hash: 000b31467b47d4a2bdbd57833f2f19b252b9a50370154051fe36c523947384c2\n",
      "\n",
      "Block #8 has been added to the blockchain!\n",
      "8268 Hashes Tried!\n",
      "Time taken to find block: 0.21824399999999855\n",
      "Hash: 000231d8d78833b10eb158f0aed2e7f1d7e42f39aaeaec99cc428ffe22f5fdee\n",
      "\n",
      "Block #9 has been added to the blockchain!\n",
      "2140 Hashes Tried!\n",
      "Time taken to find block: 0.05937699999999779\n",
      "Hash: 000ead5b004444276fbec253eb629e21db95c4d82711b864519178f1151d3c7e\n",
      "\n",
      "Block #10 has been added to the blockchain!\n",
      "3415 Hashes Tried!\n",
      "Time taken to find block: 0.0922909999999959\n",
      "Hash: 0006ae538df144934cdef9ab3d33bf784df167ba1bf79b1d007638822f95ed59\n",
      "\n",
      "Block #11 has been added to the blockchain!\n",
      "16453 Hashes Tried!\n",
      "Time taken to find block: 0.4974329999999938\n",
      "Hash: 00085da9dc3e5cf6cc36110e31f36e54c75fb21f92f099da3b5e4b59c535285f\n",
      "\n",
      "Block #12 has been added to the blockchain!\n",
      "11011 Hashes Tried!\n",
      "Time taken to find block: 0.3241659999999982\n",
      "Hash: 000deac74c6d6389bcc321f858a6a787adbe3cf4d06cbae197eb8c1b3535f16e\n",
      "\n",
      "Block #13 has been added to the blockchain!\n",
      "2609 Hashes Tried!\n",
      "Time taken to find block: 0.08942100000000153\n",
      "Hash: 00062d3fbbdd8be9eb1e38a39bf92518bc0d4ddf86b55db7f4b3f82278e489cc\n",
      "\n",
      "Block #14 has been added to the blockchain!\n",
      "1878 Hashes Tried!\n",
      "Time taken to find block: 0.06687900000000013\n",
      "Hash: 0008be699df2e6518819daf2547f25a340d6bdbf82eaf685ffc7b6ebfe84be39\n",
      "\n",
      "Block #15 has been added to the blockchain!\n",
      "6788 Hashes Tried!\n",
      "Time taken to find block: 0.19063899999999734\n",
      "Hash: 0008aad2cf82db9b39202ddc9773ebcf08769670a73a40524f121c5595e28b33\n",
      "\n",
      "Block #16 has been added to the blockchain!\n",
      "902 Hashes Tried!\n",
      "Time taken to find block: 0.02336700000000036\n",
      "Hash: 00055cfb6fca1d204513b42b73d2567e44bf0748bcb7c995b64896bb6fbf97d3\n",
      "\n",
      "Block #17 has been added to the blockchain!\n",
      "4238 Hashes Tried!\n",
      "Time taken to find block: 0.10590200000000038\n",
      "Hash: 000c53904efa24aa4dca8a72b1b25127f40d9b0746def8b19b287e4cf0581130\n",
      "\n",
      "Block #18 has been added to the blockchain!\n",
      "1845 Hashes Tried!\n",
      "Time taken to find block: 0.04692000000000007\n",
      "Hash: 000e32fb40eb9a5891be7cbc6eab57da9049fe2a99affa431c5ca587b56400d2\n",
      "\n",
      "Block #19 has been added to the blockchain!\n",
      "1446 Hashes Tried!\n",
      "Time taken to find block: 0.03703600000000051\n",
      "Hash: 0001c485a0cd15ec53bf235c6d9219e0b3912a4f659c11ca3add9ab59436fd35\n",
      "\n",
      "Block #20 has been added to the blockchain!\n",
      "2432 Hashes Tried!\n",
      "Time taken to find block: 0.07039499999999776\n",
      "Hash: 0001585105e723be1e01ff11743d971ac63e6128e0214ae59d73193c79e199ce\n",
      "\n"
     ]
    }
   ],
   "source": [
    "# Create the blockchain and add the genesis block\n",
    "blockchain_pow = [create_genesis_block()]\n",
    "\n",
    "#Create our initial reference to previous block which points to the genesis block\n",
    "previous_block = blockchain_pow[0]\n",
    "\n",
    "# How many blocks should we add to the chain after genesis block\n",
    "num_blocks = 20\n",
    "\n",
    "#magnitude of difficulty of hash - number of zeroes that must be in the beginning of the hash\n",
    "difficulty = 3\n",
    "\n",
    "#length of nonce that will be generated and added\n",
    "nonce_length = 20\n",
    "\n",
    "# Add blocks to the chain based on difficulty with nonces of length nonce_length\n",
    "def create_pow_blockchain(num_blocks, difficulty, blockchain_pow, previous_block, nonce_length, print_data=1):\n",
    "    hash_array = []\n",
    "    time_array = []\n",
    "    for i in range(0, num_blocks):\n",
    "        time_taken, hashes_tried, block_to_add = find_next_block(previous_block, difficulty, nonce_length)\n",
    "        blockchain_pow.append(block_to_add)\n",
    "        previous_block = block_to_add\n",
    "        hash_array.append(hashes_tried)\n",
    "        time_array.append(time_taken)\n",
    "        # Tell everyone about it!\n",
    "        if print_data:\n",
    "            print(\"Block #{} has been added to the blockchain!\".format(block_to_add.index))\n",
    "            print(\"{} Hashes Tried!\".format(hashes_tried))\n",
    "            print(\"Time taken to find block: {}\".format(time_taken))\n",
    "            print(\"Hash: {}\\n\".format(block_to_add.hash))\n",
    "    return(hash_array, time_array)\n",
    "\n",
    "hash_array, time_array = create_pow_blockchain(num_blocks, difficulty, blockchain_pow, previous_block, nonce_length)"
   ]
  },
  {
   "cell_type": "markdown",
   "metadata": {},
   "source": [
    "**TEST YOUR QUESTION 4 CODE HERE**\n",
    "\n",
    "Run the block of code below"
   ]
  },
  {
   "cell_type": "code",
   "execution_count": 34,
   "metadata": {},
   "outputs": [
    {
     "name": "stdout",
     "output_type": "stream",
     "text": [
      "PASSED!!! Move on to the next Part\n"
     ]
    }
   ],
   "source": [
    "def test_question_4(blockchain_pow, num_blocks):\n",
    "    correct = True\n",
    "    bound = generate_difficulty_bound(difficulty)\n",
    "    if len(blockchain_pow) != num_blocks + 1:\n",
    "        correct = False\n",
    "    for i in range(len(blockchain_pow) - 1):\n",
    "        if blockchain_pow[i + 1].previous_hash != blockchain_pow[i].hash:\n",
    "            correct = False\n",
    "            break\n",
    "        if int(blockchain_pow[i + 1].hash, 16) > bound:\n",
    "            correct = False\n",
    "            break\n",
    "    print_statement = \"PASSED!!! Move on to the next Part\" if correct else \"FAILED!!! Try Again :(\"\n",
    "    print(print_statement)\n",
    "            \n",
    "test_question_4(blockchain_pow, num_blocks)"
   ]
  },
  {
   "cell_type": "markdown",
   "metadata": {},
   "source": [
    "Once you have passed the above test case, you can do things like play around with the difficulties and nonce lengths and seeing that happens "
   ]
  },
  {
   "cell_type": "markdown",
   "metadata": {},
   "source": [
    "# Note: The sections below are optional but super cool!"
   ]
  },
  {
   "cell_type": "markdown",
   "metadata": {},
   "source": [
    "# Distributed Network + Compute Power Simulation"
   ]
  },
  {
   "cell_type": "markdown",
   "metadata": {},
   "source": [
    "In this section, instead of simulating a single node that carries out all the proof of work calculations, we will create a bunch of different nodes that will all compete to find different blocks. These nodes will all have different compute powers that we will be able to specify. Below we will define the MinerNodeNaive class which has an init function to create an instance, as well as a try_hash function that allows it to try a hash and see if it works. "
   ]
  },
  {
   "cell_type": "code",
   "execution_count": 35,
   "metadata": {},
   "outputs": [],
   "source": [
    "#Naive miner class that races with other miners to see who can get a certain number of blocks first \n",
    "class MinerNodeNaive: \n",
    "    def __init__(self, name, compute):\n",
    "        self.name = name \n",
    "        self.compute = compute\n",
    "    \n",
    "    def try_hash(self, diff_value, chain):\n",
    "        last_block = chain[-1]\n",
    "        difficulty = generate_difficulty_bound(diff_value)\n",
    "        date_now = date.datetime.now()\n",
    "        this_index = last_block.index + 1\n",
    "        this_timestamp = date_now\n",
    "        this_data = \"Hey! I'm block \" + str(this_index)\n",
    "        this_hash = last_block.hash\n",
    "        new_block = Block(this_index, this_timestamp, this_data, this_hash)\n",
    "        if int(new_block.hash, 16) < difficulty:\n",
    "            chain.append(new_block)\n",
    "            # Tell everyone about it!\n",
    "            print(\"Block #{} has been added to the blockchain!\".format(new_block.index))\n",
    "            print(\"Block found by: {}\".format(self.name))\n",
    "            print(\"Hash: {}\\n\".format(new_block.hash))\n",
    "        "
   ]
  },
  {
   "cell_type": "markdown",
   "metadata": {},
   "source": [
    "**Question #5: Describe the Following Cells**\n",
    "\n",
    "In the next 4 cells I try to simulate a bunch of different miners with different compute powers. However this isn't completely indicative of how a real system works, and is limited by what I had to work with. Read through the code, and run all of the cells and explain what is happening in a paragrpah. Also explain how this is different from real world vanilla proof of work systems and how this simulation isn't completely accurate of what's actually happening while nodes race to find the next block. There is a cell at the bottom where you can enter your description.  "
   ]
  },
  {
   "cell_type": "code",
   "execution_count": 36,
   "metadata": {},
   "outputs": [],
   "source": [
    "#Initialize multiple miners on the network \n",
    "berkeley_Miner = MinerNodeNaive(\"Berkeley Miner\", 10)\n",
    "stanford_Miner = MinerNodeNaive(\"Stanford Miner\", 5)\n",
    "MIT_Miner = MinerNodeNaive(\"MIT Miner\", 2)\n",
    "UCLA_Miner = MinerNodeNaive(\"UCLA Miner\", 1)\n",
    "\n",
    "miner_array = [berkeley_Miner, stanford_Miner, MIT_Miner, UCLA_Miner]"
   ]
  },
  {
   "cell_type": "code",
   "execution_count": 37,
   "metadata": {},
   "outputs": [],
   "source": [
    "def create_compute_simulation(miner_array):\n",
    "    compute_array = []\n",
    "    for miner in miner_array:\n",
    "        for i in range(miner.compute):\n",
    "            compute_array.append(miner.name)\n",
    "    return(compute_array)\n",
    "\n",
    "compute_simulation_array = create_compute_simulation(miner_array)\n",
    "rand.shuffle(compute_simulation_array)"
   ]
  },
  {
   "cell_type": "code",
   "execution_count": 38,
   "metadata": {},
   "outputs": [],
   "source": [
    "chain_length = 20\n",
    "blockchain_distributed = [create_genesis_block()]\n",
    "genesis_block_dist = blockchain_distributed[0]\n",
    "chain_difficulty = [rand.randint(2,4) for i in range(chain_length)]"
   ]
  },
  {
   "cell_type": "code",
   "execution_count": 39,
   "metadata": {},
   "outputs": [
    {
     "name": "stdout",
     "output_type": "stream",
     "text": [
      "Block #1 has been added to the blockchain!\n",
      "Block found by: Stanford Miner\n",
      "Hash: 00008d44d36c8bd77e6f1aed9a162ab4422ffde4b2a76f2549fcb1a08ac23ac8\n",
      "\n",
      "Block #2 has been added to the blockchain!\n",
      "Block found by: Berkeley Miner\n",
      "Hash: 000dca92ffef59df5e562fce3284e6e194f822cb059ca62c76348cf8db3549f3\n",
      "\n",
      "Block #3 has been added to the blockchain!\n",
      "Block found by: Berkeley Miner\n",
      "Hash: 000079786a9158d786d5b995bac2611ad7a1b23cc2974cd1a760f8479fc2ad43\n",
      "\n",
      "Block #4 has been added to the blockchain!\n",
      "Block found by: Berkeley Miner\n",
      "Hash: 000f1f8608af8fd327f48740710aafb12ae70f14ee1deeb4d9f51ed32c19487b\n",
      "\n",
      "Block #5 has been added to the blockchain!\n",
      "Block found by: Berkeley Miner\n",
      "Hash: 0003f19598390b84de9404920729156de0fa021bf219cd10053fba4ca0e4e975\n",
      "\n",
      "Block #6 has been added to the blockchain!\n",
      "Block found by: Berkeley Miner\n",
      "Hash: 000053923b67206f5c90a3896779dc1fbde2db8ed9e89a0c4be827b581fbac64\n",
      "\n",
      "Block #7 has been added to the blockchain!\n",
      "Block found by: Berkeley Miner\n",
      "Hash: 007b074c6233e2a13bb9e5416d37ecbaa38fea9168ce1321ee5bd7098e32d74d\n",
      "\n",
      "Block #8 has been added to the blockchain!\n",
      "Block found by: Stanford Miner\n",
      "Hash: 0000a543addb35c518813fb35c4d86d5e32e31abe0abd22af0f0e4b8977dc787\n",
      "\n",
      "Block #9 has been added to the blockchain!\n",
      "Block found by: Berkeley Miner\n",
      "Hash: 000718b3e9cbe3a81dc986dd14e7630f0a0ece80660b2d96674c3069411fdbfd\n",
      "\n",
      "Block #10 has been added to the blockchain!\n",
      "Block found by: UCLA Miner\n",
      "Hash: 00b07ff9d3d7b7691fb2c506d528c5884d1f1927bcf7ceb143a8211eea4b5986\n",
      "\n",
      "Block #11 has been added to the blockchain!\n",
      "Block found by: Berkeley Miner\n",
      "Hash: 000044e8b1f1aaa2be042f362ba291bc60ad90ffb073f818a4ca8bb08fc24da5\n",
      "\n",
      "Block #12 has been added to the blockchain!\n",
      "Block found by: Berkeley Miner\n",
      "Hash: 007d359363d20e455410a2961c2c451fd816203e4bc7305466f5e893704204e1\n",
      "\n",
      "Block #13 has been added to the blockchain!\n",
      "Block found by: Berkeley Miner\n",
      "Hash: 000020ae03b8e4ac8a30228e58d2472cd7db2af4d50a5aa373e212e6fe73ca6c\n",
      "\n",
      "Block #14 has been added to the blockchain!\n",
      "Block found by: MIT Miner\n",
      "Hash: 00178f03962ac5726450f3b4cba51236c0cbd5c49eec61744f67d151f8208657\n",
      "\n",
      "Block #15 has been added to the blockchain!\n",
      "Block found by: MIT Miner\n",
      "Hash: 00051838981319e20df5212847260a9fb720b619f1688fc62b27719090cfd62a\n",
      "\n",
      "Block #16 has been added to the blockchain!\n",
      "Block found by: Berkeley Miner\n",
      "Hash: 00088bb9491a0f9bd45295bad41b00e87b7a268807ef816b70b17b8590dec788\n",
      "\n",
      "Block #17 has been added to the blockchain!\n",
      "Block found by: Berkeley Miner\n",
      "Hash: 00ab1fe90bc4cfbb23f3342fb637f887b67494cf7fc8b3422449409d28cfbfd4\n",
      "\n",
      "Block #18 has been added to the blockchain!\n",
      "Block found by: UCLA Miner\n",
      "Hash: 000025ae729d6900d72b33dad2f22f813db84973eef847dd07ee67538301a967\n",
      "\n",
      "Block #19 has been added to the blockchain!\n",
      "Block found by: Stanford Miner\n",
      "Hash: 0000a0233d094d64e3869e73f644d50318d4f2ed597e44371c732a22a86be45b\n",
      "\n",
      "Block #20 has been added to the blockchain!\n",
      "Block found by: MIT Miner\n",
      "Hash: 000d76171731e4d858d43aa69540b4e4e861c868b5061e27123bba0ba34f8922\n",
      "\n"
     ]
    }
   ],
   "source": [
    "for i in range(len(chain_difficulty)): \n",
    "    while len(blockchain_distributed) < i + 2:\n",
    "        next_miner_str = rand.sample(compute_simulation_array, 1)[0] \n",
    "        next_miner = berkeley_Miner #random default (go bears)\n",
    "        for miner in miner_array:\n",
    "            if next_miner_str == miner.name:\n",
    "                next_miner = miner\n",
    "        next_miner.try_hash(chain_difficulty[i], blockchain_distributed)\n",
    "        "
   ]
  },
  {
   "cell_type": "markdown",
   "metadata": {},
   "source": [
    "**Question 5 Description Here**\n",
    "\n",
    "- Description: **#####Your description here####**"
   ]
  },
  {
   "cell_type": "markdown",
   "metadata": {
    "collapsed": true
   },
   "source": [
    "# Blockchain Data Analytics"
   ]
  },
  {
   "cell_type": "markdown",
   "metadata": {
    "collapsed": true
   },
   "source": [
    "Here we will use data analytics to analyze the number of hashes we need to try before we find a valid hash, given a difficulty level. Look through the code briefly (in depth is not necessary), run all of the cells, and answer the question at the bottom. (difficulty level 3 takes a bit of time so dont be alarmed if this next cell takes a bit of time to run). "
   ]
  },
  {
   "cell_type": "code",
   "execution_count": 40,
   "metadata": {},
   "outputs": [
    {
     "name": "stdout",
     "output_type": "stream",
     "text": [
      "Difficulty Level: 1 complete\n",
      "Difficulty Level: 2 complete\n",
      "Difficulty Level: 3 complete\n",
      "Difficulty Level: 4 complete\n"
     ]
    }
   ],
   "source": [
    "blockchain = [create_genesis_block()]\n",
    "previous_block = blockchain[0]\n",
    "num_blocks = 10\n",
    "\n",
    "#3 different types of difficulty to analyze\n",
    "difficulty_0 = 1\n",
    "difficulty_1 = 2\n",
    "difficulty_2 = 3\n",
    "difficulty_3 = 4\n",
    "\n",
    "nonce_length = 20\n",
    "\n",
    "hash_array_0, time_array_0 = create_pow_blockchain(num_blocks, difficulty_0, blockchain, previous_block, nonce_length, 0)\n",
    "print(\"Difficulty Level: {} complete\".format(difficulty_0))\n",
    "hash_array_1, time_array_1 = create_pow_blockchain(num_blocks, difficulty_1, blockchain, previous_block, nonce_length, 0)\n",
    "print(\"Difficulty Level: {} complete\".format(difficulty_1))\n",
    "hash_array_2, time_array_2 = create_pow_blockchain(num_blocks, difficulty_2, blockchain, previous_block, nonce_length, 0)\n",
    "print(\"Difficulty Level: {} complete\".format(difficulty_2))\n",
    "hash_array_3, time_array_3 = create_pow_blockchain(num_blocks, difficulty_3, blockchain, previous_block, nonce_length, 0)\n",
    "print(\"Difficulty Level: {} complete\".format(difficulty_3))"
   ]
  },
  {
   "cell_type": "code",
   "execution_count": 41,
   "metadata": {},
   "outputs": [],
   "source": [
    "mean_arr_hash = [np.mean(hash_array_0), np.mean(hash_array_1), np.mean(hash_array_2), np.mean(hash_array_3)]\n",
    "mean_arr_time = [np.mean(time_array_0), np.mean(time_array_1), np.mean(time_array_2), np.mean(time_array_3)]"
   ]
  },
  {
   "cell_type": "code",
   "execution_count": 42,
   "metadata": {},
   "outputs": [
    {
     "data": {
      "image/png": "[encoded data removed]",
      "text/plain": [
       "<Figure size 432x288 with 1 Axes>"
      ]
     },
     "metadata": {
      "needs_background": "light"
     },
     "output_type": "display_data"
    }
   ],
   "source": [
    "plt.plot(mean_arr_hash)\n",
    "plt.show()"
   ]
  },
  {
   "cell_type": "code",
   "execution_count": 43,
   "metadata": {},
   "outputs": [
    {
     "data": {
      "image/png": "[encoded data removed]",
      "text/plain": [
       "<Figure size 432x288 with 1 Axes>"
      ]
     },
     "metadata": {
      "needs_background": "light"
     },
     "output_type": "display_data"
    }
   ],
   "source": [
    "plt.plot(mean_arr_time)\n",
    "plt.show()"
   ]
  },
  {
   "cell_type": "code",
   "execution_count": 44,
   "metadata": {},
   "outputs": [
    {
     "name": "stdout",
     "output_type": "stream",
     "text": [
      "Factor of difficulty increase from 1 to 2: 9.941489361702127\n",
      "Factor of difficulty increase from 2 to 3: 10.884965222043874\n",
      "Factor of difficulty increase from 3 to 4: 42.761944553676756\n"
     ]
    }
   ],
   "source": [
    "diff_factor_1 = np.mean(hash_array_1)/np.mean(hash_array_0)\n",
    "diff_factor_2 = np.mean(hash_array_2)/np.mean(hash_array_1)\n",
    "diff_factor_3 = np.mean(hash_array_3)/np.mean(hash_array_2)\n",
    "print(\"Factor of difficulty increase from 1 to 2: {}\".format(diff_factor_1))\n",
    "print(\"Factor of difficulty increase from 2 to 3: {}\".format(diff_factor_2))\n",
    "print(\"Factor of difficulty increase from 3 to 4: {}\".format(diff_factor_3))"
   ]
  },
  {
   "cell_type": "markdown",
   "metadata": {},
   "source": [
    "**Question 6: This one is simple**\n",
    "\n",
    "Look at the factor of difficulty increase from each level to the subsequent level, printed from the cell above.\n",
    "\n",
    "What whould the factor of difficulty increase be for each level: **Your answer Here**"
   ]
  },
  {
   "cell_type": "markdown",
   "metadata": {},
   "source": [
    "**Check Off**\n",
    "\n",
    "If you have filled out all the skeleton code and put down your answers for the questions, let any of the instructor know and we will check you off!\n",
    "\n",
    "If you cannot finish it this class, you have until next week's class to finish check off and earn points.\n"
   ]
  }
 ],
 "metadata": {
  "kernelspec": {
   "display_name": "Python 3",
   "language": "python",
   "name": "python3"
  },
  "language_info": {
   "codemirror_mode": {
    "name": "ipython",
    "version": 3
   },
   "file_extension": ".py",
   "mimetype": "text/x-python",
   "name": "python",
   "nbconvert_exporter": "python",
   "pygments_lexer": "ipython3",
   "version": "3.8.5"
  }
 },
 "nbformat": 4,
 "nbformat_minor": 2
}
